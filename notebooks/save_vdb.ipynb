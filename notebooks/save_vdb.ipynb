{
 "cells": [
  {
   "cell_type": "code",
   "execution_count": null,
   "metadata": {},
   "outputs": [
    {
     "name": "stderr",
     "output_type": "stream",
     "text": [
      "c:\\Users\\gabri\\anaconda3\\envs\\nlp_dl\\lib\\site-packages\\tqdm\\auto.py:21: TqdmWarning: IProgress not found. Please update jupyter and ipywidgets. See https://ipywidgets.readthedocs.io/en/stable/user_install.html\n",
      "  from .autonotebook import tqdm as notebook_tqdm\n"
     ]
    }
   ],
   "source": [
    "import torch\n",
    "import torch.nn as nn\n",
    "\n",
    "import pandas as pd\n",
    "import numpy as np\n",
    "import matplotlib.pyplot as plt\n",
    "\n",
    "import arkad\n",
    "from arkad import BaseModel\n",
    "from torch.utils.data import Dataset, DataLoader\n",
    "\n",
    "import sys\n",
    "import os\n",
    "from sklearn.metrics.pairwise import cosine_similarity\n",
    "\n",
    "current_dir = os.getcwd()\n",
    "\n",
    "sys.path.append(os.path.abspath(os.path.join(current_dir, '..')))\n",
    "\n",
    "from src.datasets import *\n",
    "from src.models import *\n",
    "from src.train_test import *"
   ]
  },
  {
   "cell_type": "code",
   "execution_count": 2,
   "metadata": {},
   "outputs": [
    {
     "name": "stderr",
     "output_type": "stream",
     "text": [
      "C:\\Users\\gabri\\AppData\\Local\\Temp\\ipykernel_62644\\3310320260.py:18: FutureWarning: You are using `torch.load` with `weights_only=False` (the current default value), which uses the default pickle module implicitly. It is possible to construct malicious pickle data which will execute arbitrary code during unpickling (See https://github.com/pytorch/pytorch/blob/main/SECURITY.md#untrusted-models for more details). In a future release, the default value for `weights_only` will be flipped to `True`. This limits the functions that could be executed during unpickling. Arbitrary objects will no longer be allowed to be loaded via this mode unless they are explicitly allowlisted by the user via `torch.serialization.add_safe_globals`. We recommend you start setting `weights_only=True` for any use case where you don't have full control of the loaded file. Please open an issue on GitHub for any issues related to this experimental feature.\n",
      "  model_loaded.load_state_dict(torch.load('../models/vae_model_state_dict_2.pth'))\n"
     ]
    }
   ],
   "source": [
    "# Defina os hiperparâmetros\n",
    "hidden_dim = [768, 512, 256]\n",
    "encoding_size = 128\n",
    "learning_rate = 3e-4\n",
    "num_epochs = 15\n",
    "batch_size = 64\n",
    "device = torch.device('cuda' if torch.cuda.is_available() else 'cpu')\n",
    "\n",
    "# Recrie a instância do modelo (use os mesmos hiperparâmetros)\n",
    "model_loaded = VAE(\n",
    "    hidden_dim=hidden_dim,\n",
    "    encoding_size=encoding_size,\n",
    "    output_dim_classifier=7,\n",
    "    dropout=0.5,\n",
    "    batch_norm_1d=True\n",
    ")\n",
    "\n",
    "model_loaded.load_state_dict(torch.load('../models/vae_model_state_dict_2.pth'))\n",
    "model_loaded = model_loaded.to('cpu')"
   ]
  },
  {
   "cell_type": "code",
   "execution_count": 3,
   "metadata": {},
   "outputs": [
    {
     "name": "stdout",
     "output_type": "stream",
     "text": [
      "(5414, 3)\n"
     ]
    }
   ],
   "source": [
    "# get csv \n",
    "data = pd.read_csv('../data/data.csv')\n",
    "print(data.shape)"
   ]
  },
  {
   "cell_type": "code",
   "execution_count": 4,
   "metadata": {},
   "outputs": [],
   "source": [
    "from transformers import BertTokenizer, BertModel\n",
    "\n",
    "tokenizer = BertTokenizer.from_pretrained('bert-base-multilingual-uncased')\n",
    "tokenized_data = tokenizer(data['text'].tolist(), padding=True, truncation=True, return_tensors='pt')"
   ]
  },
  {
   "cell_type": "code",
   "execution_count": 5,
   "metadata": {},
   "outputs": [],
   "source": [
    "from torch.utils.data import TensorDataset, DataLoader\n",
    "\n",
    "dataset = TensorDataset(tokenized_data['input_ids'], tokenized_data['attention_mask'])\n",
    "dataloader = DataLoader(dataset, batch_size=128)  # Ajuste o batch_size conforme a capacidade da GPU"
   ]
  },
  {
   "cell_type": "code",
   "execution_count": 6,
   "metadata": {},
   "outputs": [
    {
     "name": "stderr",
     "output_type": "stream",
     "text": [
      "  0%|          | 0/43 [00:00<?, ?it/s]c:\\Users\\gabri\\anaconda3\\envs\\nlp_dl\\lib\\site-packages\\transformers\\models\\bert\\modeling_bert.py:440: UserWarning: 1Torch was not compiled with flash attention. (Triggered internally at C:\\cb\\pytorch_1000000000000\\work\\aten\\src\\ATen\\native\\transformers\\cuda\\sdp_utils.cpp:555.)\n",
      "  attn_output = torch.nn.functional.scaled_dot_product_attention(\n",
      "100%|██████████| 43/43 [01:28<00:00,  2.06s/it]\n"
     ]
    }
   ],
   "source": [
    "mu_outputs = []\n",
    "model_loaded.eval()  # Colocar o modelo em modo de avaliação\n",
    "model_loaded.to('cuda')  # Mova o modelo para a cuda\n",
    "\n",
    "with torch.no_grad():  # Desativar o cálculo de gradiente para economizar memória\n",
    "    for batch in tqdm(dataloader):\n",
    "        input_ids, attention_mask = batch\n",
    "        input_ids = input_ids.to('cuda')\n",
    "        attention_mask = attention_mask.to('cuda')\n",
    "        outputs = model_loaded.encoder(input_ids=input_ids, attention_mask=attention_mask)\n",
    "        mu_outputs.append(outputs[0])\n",
    "\n",
    "# Concatenar os batches para ter o resultado final\n",
    "mu_outputs = torch.cat(mu_outputs, dim=0)"
   ]
  },
  {
   "cell_type": "code",
   "execution_count": 7,
   "metadata": {},
   "outputs": [],
   "source": [
    "mu_outputs_ = mu_outputs.cpu().detach().numpy()"
   ]
  },
  {
   "cell_type": "code",
   "execution_count": 47,
   "metadata": {},
   "outputs": [
    {
     "data": {
      "text/plain": [
       "(torch.Size([5414, 128]), (5414,))"
      ]
     },
     "execution_count": 47,
     "metadata": {},
     "output_type": "execute_result"
    }
   ],
   "source": [
    "mu_outputs.shape, data['text'].shape"
   ]
  },
  {
   "cell_type": "code",
   "execution_count": 8,
   "metadata": {},
   "outputs": [],
   "source": [
    "header = ['mu_' + str(i) for i in range(mu_outputs.shape[1])]\n",
    "np.savetxt('../data/mu_outputs.csv', mu_outputs_, delimiter=',', header=','.join(header), comments='')"
   ]
  },
  {
   "cell_type": "code",
   "execution_count": 9,
   "metadata": {},
   "outputs": [],
   "source": [
    "# Load data\n",
    "data_mu = pd.read_csv('../data/mu_outputs.csv')"
   ]
  },
  {
   "cell_type": "code",
   "execution_count": 12,
   "metadata": {},
   "outputs": [
    {
     "data": {
      "text/plain": [
       "(5414, 128)"
      ]
     },
     "execution_count": 12,
     "metadata": {},
     "output_type": "execute_result"
    }
   ],
   "source": [
    "data_mu.values.shape"
   ]
  }
 ],
 "metadata": {
  "kernelspec": {
   "display_name": "nlp_dl",
   "language": "python",
   "name": "python3"
  },
  "language_info": {
   "codemirror_mode": {
    "name": "ipython",
    "version": 3
   },
   "file_extension": ".py",
   "mimetype": "text/x-python",
   "name": "python",
   "nbconvert_exporter": "python",
   "pygments_lexer": "ipython3",
   "version": "3.10.15"
  }
 },
 "nbformat": 4,
 "nbformat_minor": 2
}
