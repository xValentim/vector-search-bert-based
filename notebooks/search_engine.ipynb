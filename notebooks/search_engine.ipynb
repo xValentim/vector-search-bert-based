{
 "cells": [
  {
   "cell_type": "code",
   "execution_count": 104,
   "metadata": {},
   "outputs": [],
   "source": [
    "import torch\n",
    "import torch.nn as nn\n",
    "\n",
    "import pandas as pd\n",
    "import numpy as np\n",
    "import matplotlib.pyplot as plt\n",
    "\n",
    "import arkad\n",
    "from arkad import BaseModel\n",
    "from torch.utils.data import Dataset, DataLoader\n",
    "from pydantic import BaseModel as PydanticBaseModel\n",
    "\n",
    "import sys\n",
    "import os\n",
    "from sklearn.metrics.pairwise import cosine_similarity\n",
    "from transformers import BertTokenizer\n",
    "\n",
    "current_dir = os.getcwd()\n",
    "\n",
    "sys.path.append(os.path.abspath(os.path.join(current_dir, '..')))\n",
    "\n",
    "from src.datasets import *\n",
    "from src.models import *\n",
    "from src.train_test import *"
   ]
  },
  {
   "cell_type": "code",
   "execution_count": 105,
   "metadata": {},
   "outputs": [
    {
     "name": "stderr",
     "output_type": "stream",
     "text": [
      "C:\\Users\\gabri\\AppData\\Local\\Temp\\ipykernel_62920\\1735819938.py:18: FutureWarning: You are using `torch.load` with `weights_only=False` (the current default value), which uses the default pickle module implicitly. It is possible to construct malicious pickle data which will execute arbitrary code during unpickling (See https://github.com/pytorch/pytorch/blob/main/SECURITY.md#untrusted-models for more details). In a future release, the default value for `weights_only` will be flipped to `True`. This limits the functions that could be executed during unpickling. Arbitrary objects will no longer be allowed to be loaded via this mode unless they are explicitly allowlisted by the user via `torch.serialization.add_safe_globals`. We recommend you start setting `weights_only=True` for any use case where you don't have full control of the loaded file. Please open an issue on GitHub for any issues related to this experimental feature.\n",
      "  model_loaded.load_state_dict(torch.load('../models/vae_model_state_dict_2.pth'))\n"
     ]
    }
   ],
   "source": [
    "# Defina os hiperparâmetros\n",
    "hidden_dim = [768, 512, 256]\n",
    "encoding_size = 128\n",
    "learning_rate = 3e-4\n",
    "num_epochs = 15\n",
    "batch_size = 64\n",
    "device = torch.device('cuda' if torch.cuda.is_available() else 'cpu')\n",
    "\n",
    "# Recrie a instância do modelo (use os mesmos hiperparâmetros)\n",
    "model_loaded = VAE(\n",
    "    hidden_dim=hidden_dim,\n",
    "    encoding_size=encoding_size,\n",
    "    output_dim_classifier=7,\n",
    "    dropout=0.5,\n",
    "    batch_norm_1d=True\n",
    ")\n",
    "\n",
    "model_loaded.load_state_dict(torch.load('../models/vae_model_state_dict_2.pth'))\n",
    "\n",
    "model_loaded = model_loaded.to('cpu')\n",
    "\n",
    "# get csv \n",
    "data = pd.read_csv('../data/data.csv')\n",
    "\n",
    "# Load vector data\n",
    "mu_outputs_ = pd.read_csv('../data/mu_outputs.csv')\n",
    "\n",
    "# Load tokenizer\n",
    "tokenizer = BertTokenizer.from_pretrained('bert-base-multilingual-uncased')"
   ]
  },
  {
   "cell_type": "code",
   "execution_count": 106,
   "metadata": {},
   "outputs": [],
   "source": [
    "def invoke(query, k=10):\n",
    "    model_loaded.eval()\n",
    "    query_processed = tokenizer(query, return_tensors='pt', padding=True, truncation=True)\n",
    "    query_embedding_mu = model_loaded.encoder(input_ids=query_processed['input_ids'].to('cpu'), \n",
    "                                                attention_mask=query_processed['attention_mask'].to('cpu'))[0]\n",
    "    \n",
    "    query_embedding_mu = query_embedding_mu.cpu().detach().numpy()[0]\n",
    "    query_embedding_mu = query_embedding_mu.reshape(1, -1)\n",
    "    \n",
    "    scores = cosine_similarity(mu_outputs_, query_embedding_mu)\n",
    "    idxs = np.argsort(scores, axis=0)[::-1][:k]\n",
    "    idxs_and_scores = np.array([[idx[0], scores[idx[0]][0]] for idx in idxs])\n",
    "    \n",
    "    output_content = data.iloc[idxs_and_scores[:, 0]]['text'].values\n",
    "    output_url = data.iloc[idxs_and_scores[:, 0]]['url'].values\n",
    "    output_scores = idxs_and_scores[:, 1]\n",
    "    \n",
    "    return output_content, output_url, output_scores"
   ]
  },
  {
   "cell_type": "code",
   "execution_count": 107,
   "metadata": {},
   "outputs": [
    {
     "data": {
      "text/plain": [
       "(array(['Site de acompanhantes, Fatal Model patrocinará o Vila Nova-GO\\nAcordo inclui exposição na camisa e a instalação de telão no estádio; empresa também patrocina o Vitória-BA e a Ponte Preta-SP\\nO Vila Novaanunciounesta 2ª feira (16.set.2024) um acordo de patrocínio com a Fatal Model, um site brasileiro de acompanhantes. A parceria inclui a presença da marca na barra frontal da camisa do time e a instalação de um novo telão no estádio OBA (Onésio Brasileiro Alvarenga). Embora o valor do contrato não tenha sido divulgado, ele é o maior já negociado para a área do uniforme do clube goiano.\\nAlém da exposição na camisa e no estádio, o acordo estabelece espaços publicitários nosbackdropsde entrevistas a jornalistas. A Fatal Model também terá a oportunidade de realizar postagens em conjunto com o clube nas redes sociais.\\nMurilo Reis, diretor de marketing do Vila Nova, falou sobre a importância da parceria.“É muito importante para o Vila Nova estabelecer uma parceria com uma empresa do porte da Fatal Model. Entendemos que essa conexão fortalece nossa marca no cenário nacional e amplia nossas possibilidades de crescimento como clube”, afirmou Murilo Reis.\\nPor outro lado, a Fatal Model expressou seu compromisso com o esporte e a promoção de valores positivos.\\n“Estamos muito contentes em anunciar este novo acordo e consolidar ainda mais a presença da empresa no esporte. A cada novo patrocínio, reforçamos a seriedade do nosso trabalho e espalhamos nossos valores por todo o país. Lutamos por mais respeito e dignidade à profissão, e o Vila Nova será um grande aliado nessa causa”, disse Nina Sag, porta-voz da empresa.\\nA Fatal Model já tem parcerias com o Vitória e a Ponte Preta. Além disso, foi patrocinadora oficial dos Campeonatos Gaúcho e Carioca em 2024.\\nA empresa também participou de amistosos internacionais da Seleção Brasileira e tem direitos de exposição em placas de publicidade de 600 jogos das séries A e B do Brasileirão.',\n",
       "        'Clubes brasileiros discutem “fair play” financeiro para 2025\\nRepresentantes das séries A, B e C se reuniram na 2ª feira (2.set), na CBF, para debater medidas que assegurem equilíbrio nas finanças\\nA Comissão Nacional de Clubes iniciou discussões sobre a implementação dofair playfinanceiro no futebol brasileiro, com planos para adoção a partir de 2025. A reunião se deu na sede daCBF(Confederação Brasileira de Futebol), no Rio de Janeiro, na 2ª feira (2.set.2024).\\nO encontro reuniu representantes de clubes das séries A, B e C na tentativa de promover o equilíbrio nas finanças das equipes brasileiras. Segundo o site de notícias esportivasge, a reunião também tratou de outros temas, como calendário de competições e arbitragem.\\nRepresentantes de Atlético-GO, Flamengo, Fluminense, Fortaleza, Internacional, Palmeiras, São Paulo e Vasco concordaram em continuar as discussões para definir um modelo de implementação.\\xa0A proposta dofair playfinanceiro busca, sobretudo, assegurar uma competição mais justa e evitar que os clubes gastem mais do que podem.\\nA motivação para ofair playse dá por causa dos grandes investimentos em transferências. A medida também deve ser feita para solucionar problemas de clubes endividados, além de regular equipes controladas por grupos empresariais.\\nNa Europa, por exemplo, questões semelhantes foram tratadas por meio das regras dofair playfinanceiro. Nomes importantes do futebol nacional apoiam a iniciativa.\\nO presidente do Flamengo, Rodolfo Landim, e John Textor, dono da SAF (Sociedade Anônima do Futebol) do Botafogo, estão na lista.',\n",
       "        'Corinthians fecha acordo com GoCare Saúde até 2025\\nEmpresa estampará os uniformes do time feminino e da equipe Sub-20 do clube paulista; os valores não foram divulgados\\nO Corinthiansanunciouna última 6ª feira (6.set.2024) um novo acordo com a GoCare Saúde. A colaboração, que se estenderá até dezembro de 2025, patrocinará os uniformes do time feminino e da equipe masculina Sub-20. Com isso, a GoCare Saúde busca ampliar sua visibilidade no esporte. O clube não revelou os detalhes financeiros do acordo.\\nA marca aparecerá na parte inferior traseira dos uniformes femininos e nos meiões daequipe masculinaSub-20. A estreia aconteceu nas camisas do time feminino durante o jogo contra oPalmeirasno domingo (8.set).\\nVinicius Azevedo, superintendente de marketing do Corinthians, disse:“é uma enorme satisfação notar a relevância do futebol feminino do Timão, não apenas entre torcedores e entusiastas da modalidade, mas também para o mercado“.\\nJá Gustavo Polli, CEO da GoCare Saúde, afirmou:“o time do bando de loucos é conhecido por suas inúmeras conquistas e tradição”.\\n“Estamos supermotivados em apoiar um dos clubes mais prestigiados do Brasil e com a maior torcida do país, vemos essa união como uma oportunidade para promover a saúde e o bem-estar dos torcedores, atletas e beneficiários da nossa empresa”, concluiu Polli.',\n",
       "        'Gabigol anuncia fim da parceria com a Nike\\n“Minha gratidão a tudo que vivemos”, diz o atacante do Flamengo sobre patrocínio de marca esportiva por mais de 10 anos\\nO atacante do Flamengo Gabriel Barbosa, conhecido como “Gabigol”, anunciou nesta 2ª feira (2.set.2024) que não renovará contrato com a Nike. A marca o patrocinava desde o início de sua carreira no Santos.\\nO acordo durava mais de uma década e acompanhou diversas conquistas do jogador. Em suas redes sociais, Gabigol agradeceu à Nike, mencionando as vitórias e os recordes alcançados durante o período em que estiveram juntos.\\n“Foram anos de parceria! Mais de uma década! Juntos, realizamos sonhos, chegamos ao ouro olímpico, conquistamos a América duas vezes, além de tantas outras conquistas, gols e recordes! O caminho não foi fácil, mas conseguimos! Portanto, obrigado, Nike, por estar comigo em todos esses momentos e dividir tanta coisa boa! Minha gratidão a tudo que vivemos! Obrigado!”,disse o atacante.\\nGabigol é um dos principais representantes da marca no futebol brasileiro. Durante o período de parceria, o jogador teve conquistas importantes, como a medalha de ouro nos Jogos Olímpicos de 2016 e as duas Libertadores da América pelo Flamengo, em 2019 e 2022.\\nO atacante se recupera de uma lesão muscular que o afastou dos últimos 4 jogos do Flamengo. A expectativa é que ele retorne aos campos no dia 12 de setembro, em partida contra o Bahia, válida pelas quartas de final da Copa do Brasil.',\n",
       "        'Caitlin Clark ajuda Indiana Fever a atingir público recorde na WNBA\\nAtleta contribui para atrair mais de 500 mil espectadores para o time na temporada de 2024 da liga feminina de basquete nos EUA\\nA jogadora Caitlin Clark ajudou o Indiana Fever a atrair mais de 503.921 espectadores nos 31 jogos feitos pela equipe na temporada de 2024 daWNBA(Women’s National Basketball Association). A atleta é estreante na competição feminina de basquete os EUA.\\nA quantidade de público é recorde para uma equipe da liga. As informações foram publicadas pelo siteSporticonesta 5ª feira (29.ago.2024).\\nSó a partida contra o Connecticut Sun atraiu 17.274 espectadores e contou com a presença de celebridades, como Simone Biles e Gabby Thomas. A estrela da ginástica compartilhou sua experiência nas redes sociais e disse que iria novamente a jogos da WNBA.\\nCaitlin Clark teve um desempenho individual positivo ao estabelecer o recorde de cestas de 3 pontos para uma estreante, somando 88.\\nA equipe também quebra recorde de audiência na televisão. Uma partida realizada contra o Lynx alcançou 569 mil telespectadores naNBA TV.\\nA presença da atleta contribuiu para um crescimento de quase 20% no público de jogos da WNBA que não envolvem o Fever, de acordo com umaanálisefeita em julho peloSportico.',\n",
       "        'Fortaleza fecha patrocínio pontual para jogo contra o Corinthians\\nA seguradora terá sua marca exibida na camisa dos times durante a partida de domingo, válida pela 24ª rodada do Brasileirão\\nOFortaleza Esporte Clubeanunciounesta 6ª feira (23.ago.2024) um patrocínio pontual daEZZE Seguros. A seguradora exibirá sua marca na barra frontal da camisa do clube no jogo contra oCorinthians, marcado para o domingo (25.ago), na capital cearense. A partida é valida pela 24ª rodada da Série A do Campeonato Brasileiro de Futebol.\\nO patrocínio expande a presença da EZZE Seguros no futebol nacional, associando sua marca a mais um clube de destaque. Isso porque a empresa também mantém um acordo com o Corinthians. O logo da seguradora aparece na parte superior das costas do uniforme do clube paulista.\\nIvo Machado, vice-presidente de relações institucionais e marketing da EZZE Seguros, afirmou que a presença da marca nas camisas dos clubes integra um esforço contínuo para consolidar a empresa no cenário esportivo brasileiro. Ele também destacou a importância de apoiar clubes que representam diferentes regiões do país.\\nMarcelo Paz, CEO do clube cearense, também ressaltou a relevância do patrocínio pontual. Ele mencionou que o Fortaleza vive um momento de grande atenção da mídia e dos torcedores.\\nComo a partida será transmitida em TV aberta para todo o Brasil, a parceria proporciona uma oportunidade única de exposição para a EZZE Seguros, beneficiando tanto o clube quanto o patrocinador.',\n",
       "        'Lazio planeja revitalização do Estádio Flaminio, em Roma\\nObjetivo é modernizar a arena esportiva com foco na sustentabilidade, com investimento estimado em 250 milhões de euros\\nO projeto Flaminio Biancoceleste, que visa renovar o Estádio Flaminio subutilizado pelaRomaeLazio, avança para uma nova etapa. Claudio Lotito, presidente da Lazio, apresentou as propostas ao prefeito Roberto Gualtieri durante uma reunião. O objetivo é transformar a estrutura em uma moderna arena esportiva, com foco na sustentabilidade. Localizado entre o Viale Tiziano e o Corso Francia, o projeto enfrenta desafios técnicos relacionados à estabilidade da antiga construção, conforme relatado pelo jornalCalcio e Finanza.\\nO plano inclui a adição de um 2º anel ao estádio, aumentando sua capacidade para 50.000 lugares e preservando a história arquitetônica do local. Os técnicos avaliam a viabilidade da expansão, especialmente a capacidade da estrutura original de suportar o peso adicional. Um modelo virtual do projeto destaca as novas arquibancadas e a iluminação especial para eventos importantes.\\nUma reunião marcada para outubro de 2024 deve resultar na 1ª aprovação de Roma para o projeto. O investimento estimado é de cerca de 250 milhões de euros, cobrindo a expansão do estádio, a cobertura das arquibancadas e a criação de novos estacionamentos.\\nInaugurado em 1958, o Estádio Flaminio sediou grandes eventos esportivos ao longo dos anos. O estádio recebeu jogos das equipes AS Roma e Lazio na temporada 1989/1990, enquanto o Estádio Olímpico passava por reformas para a Copa do Mundo de 1990. Além disso, a seleção italiana de rugby também utilizou o estádio para algumas partidas.',\n",
       "        'Com clássico, “Globo” tem a melhor audiência do fim de semana\\nA transmissão da partida entre São Paulo e Corinthians, realizada em Brasília, teve picos de 27 pontos\\nA audiência da transmissão do clássico paulista entreSão PauloeCorinthians, realizado no último domingo (29.set.2024) em Brasília, garantiu à rede Globo a melhor audiência entre os canais abertos deste fim de semana, conforme divulgado pelo portalTeleguiado.\\nDurante a partida, a média foi de 24 pontos, com picos de 27, segundo pesquisa em tempo real. Cada ponto equivale a 191 mil telespectadores na Grande São Paulo e a quase 112 mil na Região Metropolitana do Rio.\\nO jogo entre os clubes paulistas foi realizado no estádio Mané Garrincha, em Brasília. A partida deveria ser realizada no Morumbi, em São Paulo, mas foi remanejada devido ao show do cantor Bruno Mars, programado para os dias 4 e 12 de outubro.\\nApesar da derrota por 3×1, o Corinthians se manteve na 17ª colocação do Campeonato Brasileiro, dentro da zona de rebaixamento. O clube do Parque São Jorge disputará as semifinais da Copa do Brasil e da Sul-Americana.\\nPor sua vez, o São Paulo ocupa a 5ª posição no Campeonato Brasileiro e já foi eliminado da Copa Libertadores e da Copa do Brasil deste ano.',\n",
       "        'Netflix anuncia parceria com marcas para luta entre Paul e Tyson\\nO evento, marcado para 15 de novembro no AT&T Stadium, contará com patrocínios de marcas como Celsius e DrafKings\\nANetflix, empresa do setor de streaming, fechou parcerias com 5 patrocinadores para o evento de boxe entre Jake Paul e Mike Tyson, agendado para 15.nov.2024. O combate será realizado no AT&T Stadium, em Arlington, Texas. As marcas Celsius, DraftKings Sportsbook, Experian, Meta Quest eSpatenatuarão como parceiras apresentadoras do evento e da programação.\\nEssas marcas exibirão suas logos durante a transmissão. Celsius e DraftKings Sportsbook estarão no tapete do ringue, enquanto Meta Quest, Experian e Spaten estarão nas cordas. Além disso, haverá ativações no local e conteúdo social personalizado para engajar os fãs.\\nMagno Herran, vice-presidente de parcerias de marketing global da Netflix, destacou que a apresentação dos patrocinadores será feita de forma integrada durante a cobertura do evento. Essa cobertura incluirá treinos abertos e pesagens, com início em 7 de outubro.\\nA transmissão contará com segmentos especiais, como o “Essential Energy Highlight of the Fight”da Celsius e o “Tale of the Be”‘da DraftKings Sportsbook. Vale ressaltar que este último estará disponível apenas nos EUA. Meta Quest e Experian oferecerão segmentos pré-luta com informações detalhadas sobre os lutadores.\\nEste será o 3º grande evento esportivo transmitido pela Netflix, depois dos torneios de golfe Netflix Cup e Netflix Slam. Além disso, a plataforma planeja transmitir 2 jogos da NFL no dia de Natal, parte de um acordo de 3 anos.\\nOs acordos de patrocínio para o combate entre Paul e Tyson podem dar uma ideia do inventário publicitário que a Netflix oferece. Há pacotes à venda por US$ 5 milhões. Além disso, a Netflix será a casa exclusiva do Monday Night Raw do WWE a partir de janeiro de 2025.',\n",
       "        'Bologna anuncia parceria com Betway\\nAcordo com casa de apostas inclui visibilidade em placas de LED e ações voltadas aos torcedores do clube italiano\\nOBologna FC 1909anunciou, na 2ª (19.ago.2024), uma parceria com a casa de apostasBetway. O clube italiano se associou à empresa, que tem parceria com equipes inglesas, como o Manchester City.\\nO acordo também posiciona o Bologna como parceiro global de apostas da Betway. Além disso,a parceria assegura visibilidade por meio de placas de LED no Stadio Renato Dall’Ara, onde o clube italiano manda suas partidas, e oferece experiências exclusivas aos torcedores.\\nChristoph Winterling, diretor comercial e de marketing do Bologna, definiu a colaboração como um“marco importante”para o clube. O dirigente também exaltou o“compromisso”do Bologna em proporcionar experiências aos torcedores e a força comercial da equipe.\\nA Betway, que mantém parcerias no campeonato inglês com Manchester City, Arsenal, Brighton e West Ham, vê na colaboração com o Bologna uma oportunidade de expandir sua presença no futebol italiano.\\nNeal Menashe,CEOdo Super Group, empresa-mãe da Betway, disse que o Bologna tem uma rica história. Além disso, ele mencionou os 7 títulos da Serie A como um dos fatores que tornam a parceria especialmente significativa.\\nDiferentemente da Inglaterra, a parceria com o clube italiano não fará com que a marca da casa de apostas seja estampada na parte frontal da camisa, uma vez que a regulamentação italiana proíbe patrocínios nos uniformes. No entanto, permite outras formas de publicidade.'],\n",
       "       dtype=object),\n",
       " array(['https://www.poder360.com.br/poder-sportsmkt/site-de-acompanhantes-fatal-model-patrocinara-o-vila-nova-go/',\n",
       "        'https://www.poder360.com.br/poder-sportsmkt/clubes-brasileiros-discutem-fair-play-financeiro-para-2025/',\n",
       "        'https://www.poder360.com.br/poder-sportsmkt/corinthians-fecha-acordo-com-gocare-saude-ate-2025/',\n",
       "        'https://www.poder360.com.br/poder-sportsmkt/gabigol-encerra-parceria-com-a-nike/',\n",
       "        'https://www.poder360.com.br/poder-sportsmkt/caitlin-clark-ajuda-liga-de-basquete-nos-eua-a-atingir-publico-recorde/',\n",
       "        'https://www.poder360.com.br/poder-sportsmkt/fortaleza-fecha-patrocinio-pontual-para-jogo-contra-o-corinthians/',\n",
       "        'https://www.poder360.com.br/poder-sportsmkt/lazio-planeja-revitalizacao-do-estadio-flaminio-em-roma/',\n",
       "        'https://www.poder360.com.br/poder-sportsmkt/com-classico-sao-paulo-e-corinthians-registra-melhor-audiencia-do-fim-de-semana-na-globo/',\n",
       "        'https://www.poder360.com.br/poder-sportsmkt/netflix-anuncia-parceria-com-marcas-para-luta-entre-paul-e-tyson/',\n",
       "        'https://www.poder360.com.br/poder-sportsmkt/bologna-anuncia-parceria-com-betway/'],\n",
       "       dtype=object),\n",
       " array([0.99884047, 0.99757392, 0.99701669, 0.99564775, 0.99493674,\n",
       "        0.99459394, 0.9941398 , 0.994137  , 0.99413362, 0.99381263]))"
      ]
     },
     "execution_count": 107,
     "metadata": {},
     "output_type": "execute_result"
    }
   ],
   "source": [
    "invoke('No recorte do futebol, sabemos o maracanã ficará lotado no jogo do palmeiras', k=10)"
   ]
  },
  {
   "cell_type": "code",
   "execution_count": null,
   "metadata": {},
   "outputs": [],
   "source": [
    "from huggingface_hub import hf_hub_download\n",
    "from urllib.parse import urlparse\n",
    "\n",
    "class Output(PydanticBaseModel):\n",
    "    content: str\n",
    "    url: str\n",
    "    score: float\n",
    "\n",
    "class Retriever:\n",
    "    def __init__(self, \n",
    "                 path_saved_model='https://huggingface.co/xValentim/vector-search-bert-based/resolve/main/vae_model_state_dict_2.pth', \n",
    "                 sample_size=None, \n",
    "                 path_saved_index='./data/mu_outputs.csv'):\n",
    "        \n",
    "        # Defina os hiperparâmetros\n",
    "        hidden_dim = [768, 512, 256]\n",
    "        encoding_size = 128\n",
    "        learning_rate = 3e-4\n",
    "        num_epochs = 15\n",
    "        batch_size = 64\n",
    "        device = torch.device('cuda' if torch.cuda.is_available() else 'cpu')\n",
    "\n",
    "        # Recrie a instância do modelo (use os mesmos hiperparâmetros)\n",
    "        model_loaded = VAE(\n",
    "            hidden_dim=hidden_dim,\n",
    "            encoding_size=encoding_size,\n",
    "            output_dim_classifier=7,\n",
    "            dropout=0.5,\n",
    "            batch_norm_1d=True\n",
    "        )\n",
    "        \n",
    "        # Check if the path_saved_model is a URL\n",
    "        if path_saved_model.startswith('http'):\n",
    "            # Parse the URL to get the repository ID and filename\n",
    "            parsed_url = urlparse(path_saved_model)\n",
    "            path_parts = parsed_url.path.split('/')\n",
    "            repo_id = '/'.join(path_parts[1:3])  # e.g., 'xValentim/vector-search-bert-based'\n",
    "            filename = path_parts[-1]  # e.g., 'vae_model_state_dict_2.pth'\n",
    "\n",
    "            # Download the model file from the Hugging Face Hub\n",
    "            state_dict_path = hf_hub_download(repo_id=repo_id, filename=filename)\n",
    "\n",
    "            # Load the state dictionary\n",
    "            state_dict = torch.load(state_dict_path, map_location='cpu')\n",
    "        else:\n",
    "            # Load from local path\n",
    "            state_dict = torch.load(path_saved_model, map_location='cpu')\n",
    "\n",
    "        model_loaded.load_state_dict(state_dict)\n",
    "        model_loaded.to('cpu')\n",
    "        \n",
    "        self.model = model_loaded\n",
    "        self.tokenizer = BertTokenizer.from_pretrained('bert-base-multilingual-uncased')\n",
    "        \n",
    "        self.data = pd.read_csv('./data/data.csv')\n",
    "        if sample_size:\n",
    "            self.data = self.data.sample(sample_size)\n",
    "        \n",
    "        if path_saved_index is None:\n",
    "            \n",
    "            self.tokenized_data = tokenizer(self.data['text'].tolist(), padding=True, truncation=True, return_tensors='pt')\n",
    "            self.dataset = TensorDataset(self.tokenized_data['input_ids'], self.tokenized_data['attention_mask'])\n",
    "            self.dataloader = DataLoader(self.dataset, batch_size=128)  # Ajuste o batch_size conforme a capacidade da GPU\n",
    "            \n",
    "            mu_outputs = []\n",
    "            model_loaded.eval()  # Colocar o modelo em modo de avaliação\n",
    "            model_loaded.to(device)  # Mova o modelo para a cuda\n",
    "\n",
    "            with torch.no_grad():  # Desativar o cálculo de gradiente para economizar memória\n",
    "                for batch in tqdm(self.dataloader):\n",
    "                    input_ids, attention_mask = batch\n",
    "                    input_ids = input_ids.to(device)\n",
    "                    attention_mask = attention_mask.to(device)\n",
    "                    outputs = model_loaded.encoder(input_ids=input_ids, attention_mask=attention_mask)\n",
    "                    mu_outputs.append(outputs[0])\n",
    "\n",
    "            # Concatenar os batches para ter o resultado final\n",
    "            self.mu_outputs = torch.cat(mu_outputs, dim=0).cpu().detach().numpy()\n",
    "        else:\n",
    "            self.mu_outputs = pd.read_csv(path_saved_index)\n",
    "            self.mu_outputs = self.mu_outputs.values\n",
    "        \n",
    "    def invoke(self, query, k=10):\n",
    "        self.model.eval()\n",
    "        query_processed = self.tokenizer(query, return_tensors='pt', padding=True, truncation=True)\n",
    "        query_embedding_mu = self.model.encoder(input_ids=query_processed['input_ids'].to('cpu'), \n",
    "                                                  attention_mask=query_processed['attention_mask'].to('cpu'))[0]\n",
    "        query_embedding_mu = query_embedding_mu.cpu().detach().numpy()[0]\n",
    "        query_embedding_mu = query_embedding_mu.reshape(1, -1)\n",
    "        \n",
    "        scores = cosine_similarity(self.mu_outputs, query_embedding_mu)\n",
    "        idxs = np.argsort(scores, axis=0)[::-1][:k]\n",
    "        idxs_and_scores = np.array([[idx[0], scores[idx[0]][0]] for idx in idxs])\n",
    "        \n",
    "        output_content = self.data.iloc[idxs_and_scores[:, 0]]['text'].values\n",
    "        output_url = self.data.iloc[idxs_and_scores[:, 0]]['url'].values\n",
    "        output_scores = idxs_and_scores[:, 1]\n",
    "        \n",
    "        return output_content, output_url, output_scores\n",
    "    \n",
    "    def query(self, query, k=3):\n",
    "        output_content, output_url, output_scores = self.invoke(query, k)\n",
    "        output = [Output(content=output_content[i],\n",
    "                         url=output_url[i],\n",
    "                         score=output_scores[i]\n",
    "                    ) for i in range(k)]\n",
    "        return output"
   ]
  },
  {
   "cell_type": "code",
   "execution_count": null,
   "metadata": {},
   "outputs": [],
   "source": [
    "retriever = Retriever(path_saved_index='../data/mu_outputs.csv',\n",
    "                      path_saved_model='https://huggingface.co/xValentim/vector-search-bert-based/resolve/main/vae_model_state_dict_2.pth')"
   ]
  },
  {
   "cell_type": "code",
   "execution_count": 110,
   "metadata": {},
   "outputs": [],
   "source": [
    "response = retriever.query('Nas últimas semanas a economia tem ido bastante mal durante o periodo das eleições, o dolar despencou', \n",
    "                           k=3)"
   ]
  },
  {
   "cell_type": "code",
   "execution_count": 111,
   "metadata": {},
   "outputs": [
    {
     "data": {
      "text/plain": [
       "[Output(content='OCDE projeta crescimento global de 3,2% em 2024 e 2025\\nQueda da inflação e política monetária menos restritiva nos países contribuirão para os resultados\\nAOCDE(Organização para Cooperação e Desenvolvimento Econômico) divulgou nesta 4ª feira (25.set.2024) estimativas atualizadas para o crescimento global. A organização projeta uma aceleração de 3,2% na economia em 2024, aumentando a estimativa anterior (3,1%) em 0,1 ponto percentual.\\nA projeção para 2025 também é de 3,2%. O crescimento em ambos os anos deve se dar“com uma maior desaceleração da inflação, melhora da renda real e políticas monetárias menos restritivas em muitas economias ajudando a sustentar a demanda”. Eis aíntegrado relatório (PDF – 1 MB, em inglês).\\nSegundo a OCDE, o crescimento econômico do G20“deve permanecer amplamente estável, apesar dos diferentes resultados projetados dentro do grupo”. A estimativa de aceleração do PIB em 2024 é de 3,2%. Deve desacelerar para 3,1% em 2025.\\nA organização também afirma que, conforme o ritmo observado na 1ª metade deste ano,“o crescimento foi robusto em Estados Unidos, Reino Unido, Canadá e Espanha. A demanda interna impulsionou a atividade no Brasil, Índia e Indonésia”.\\nEis outras projeções da OCDE:\\nEUA:2,6% em 2024 e 1,6% em 2025;\\nChina:4,9% em 2024 e 4,5% em 2025;\\nBrasil:2,9% em 2024 e 2,6% em 2025;\\nArgentina:-4,0% em 2024 e 3,9% em 2025.\\nA OCDE afirma que o crescimento deve desacelerar nos EUA nos próximos trimestres, mas a flexibilização da política monetária deve ajudar a sustentar um crescimento mais forte no 2º semestre de 2025.\\nEm relação à China, a organização diz esperar que o crescimento seja sustentado durante a 2ª metade de 2024 por um aumento nos gastos governamentais.\\n“Mesmo assim, prevê-se que a correção prolongada no setor imobiliário continue e a falta de redes de segurança social adequadas, juntamente com a baixa confiança dos consumidores, continuará a pesar sobre o crescimento do consumo privado”, avaliou.', url='https://www.poder360.com.br/poder-economia/ocde-projeta-crescimento-global-de-32-em-2024-e-2025/', score=0.9983598958456493),\n",
       " Output(content='BC da China anuncia medidas para impulsionar economia\\nA iniciativa visa a auxiliar o país a atingir meta de crescimento de 5%; inclui cortes de taxas para bancos\\nO PBoC (Banco Popular da China) anunciou nesta 3ª feira (24.set.2024) um conjunto de medidas para estimular a economia. A iniciativa é realizada em um contexto de desaceleração econômica, com o país enfrentando o desafio de atingir a meta decrescimento anual de cerca de 5%.\\nEm declaração a jornalistas, o presidente do banco central chinês, Pan Gongsheng, afirmou que o país cortará, em um futuro próximo, a quantidade de dinheiro que os bancos devem manter como reservas, conhecidas como RRR (taxa de reservas obrigatórias), em 0,5 ponto percentual. As informações são da agência estatal chinesaXinhua.\\nA medida fornecerá cerca de 1 trilhão de yuans (aproximadamente US$ 142 bilhões ou R$ 787,2 bilhões) em liquidez de longo prazo ao mercado financeiro.\\n“Dependendo da situação de liquidez do mercado, o RRR pode ser reduzido ainda mais em 0,25 a 0,5 ponto percentual ao longo do ano”, disse Pan.\\nEis as outras medidas anunciadas pelo banco central chinês:\\nredução da taxa de recompra reversa de 7 dias de 1,7% para 1,5%. O objetivo é orientar a taxa preferencial de empréstimo e a taxa de depósito para baixo;\\ncorte das taxas de juros sobre empréstimos hipotecários de, em média, 0,5 ponto percentual. Espera-se que a medida reduza as despesas familiares em aproximadamente 150 bilhões de yuans por ano (US$ 21,2 bilhões ou R$ 117,5 bilhões);\\nredução da entrada mínima para a compra de um 2º imóvel de 25% para 15%;\\naumento do financiamento do banco central na política de reempréstimos para moradias populares de 60% para 100%;\\ncriação de novas ferramentas de política monetária para apoiar o desenvolvimento estável do mercado de ações;\\nestabelecimento de um programa de swap para que empresas de valores mobiliários, fundos e seguradoras possam obter liquidez do banco central por meio da colateralização de ativos (modalidade de empréstimo que usa um ativo como garantia de pagamento);\\ncriação de linha especial de refinanciamento para orientar os bancos a fornecerem empréstimos a empresas listadas e seus principais acionistas para recompra de ações e aumento de participações.\\nPan Gongsheng não indicou que o Banco Popular da China irá flexibilizar a política monetária do país.\\nEle afirmou que o BC manterá a política monetária“acomodatícia”, fortalecerá a regulamentação da política monetária, tornando-a mais precisa, e criará um ambiente monetário e financeiro saudável para o crescimento econômico estável e o desenvolvimento.', url='https://www.poder360.com.br/poder-economia/bc-da-china-anuncia-medidas-para-impulsionar-economia/', score=0.9980837123824092),\n",
       " Output(content='AT&T tem lucro ajustado de US$ 11,6 bi no 3º trimestre de 2024\\nResultado supera expectativas do mercado; número de novos assinantes mensais foi de 403 mil, ante a estimativa de 394,6 mil\\nA AT&T apresentou um lucro ajustado no 3º trimestre superior ao esperado e manteve sua previsão para o ano, com desempenho reforçado pelo aumento no número de assinantes de serviços móveis. O relatório do 3º trimestre do ano foi divulgado nesta 4ª feira (23.out.2024). Eis aíntegrado relatório (PDF – 728 kB, em inglês).\\nA empresa adicionou 403 mil novos assinantes mensais de serviços móveis pós-pagos durante o período, acima da estimativa consensual da Bloomberg de 394.645, sinalizando que seus planos ilimitados com preços mais altos — que ainda são mais acessíveis do que os dos concorrentes — estão atraindo consumidores preocupados com custos. A taxa de churn (indicador de cancelamento de clientes) de telefonia móvel pós-paga ficou em 0,78%, contra 0,79% no mesmo período do ano passado.\\n\\n“Entregamos outro trimestre forte e consistente, fortalecendo nossa liderança em conectividade 5G e fibra ótica”, disse John Stankey, CEO da AT&T, em comunicado.As ações subiam antes da abertura das Bolsas em Nova York nesta 4ª feira (23.out).\\nOs assinantes líquidos de seu negócio de fibra, por sua vez, aumentaram em 226 mil — o 19º trimestre consecutivo com mais de 200 mil adições líquidas, mas abaixo das projeções de 265.390. Stankey mencionou que as instalações de fibra foram temporariamente afetadas pelo furacão Helene em setembro e por uma paralisação de trabalho no Sudeste.\\nEm agosto, mais de 17.000 trabalhadores na região, incluindo técnicos e representantes de atendimento ao cliente responsáveis pela rede de telecomunicações residencial e empresarial da AT&T, entraram em greve em protesto contra condições trabalhistas consideradas injustas. A AT&T e o sindicato que representa os trabalhadores chegaram a um novo acordo salarial no início deste mês.\\nO fluxo de caixa livre, um indicador importante para determinar os níveis de dividendos, caiu 1,9% na comparação anual, para US$ 5,1 bilhões, mas superou as expectativas de US$ 4,69 bilhões.\\nO lucro ajustado antes de juros, impostos, depreciação e amortização subiu para US$ 11,6 bilhões, em comparação aos US$ 11,2 bilhões no mesmo período de 2023. Os analistas previam US$ 11,38 bilhões.\\nEntretanto, a receita caiu 0,7%, totalizando US$ 30,2 bilhões, abaixo das expectativas, devido em parte à menor demanda por serviços de telefonia e dados da unidade de negócios fixos da AT&T. A venda de propriedade intelectual no valor de cerca de US$ 100 milhões no ano anterior também afetou o resultado dessa divisão.\\nA AT&T reiterou sua projeção anual para o lucro operacional ajustado e crescimento da receita de serviços móveis, mas alertou que a receita da divisão de serviços fixos empresariais deve recuar na faixa de“alta de 2 dígitos”, em vez de uma queda na faixa de“média de 2 dígitos”prevista anteriormente.\\nCom informações daInvesting Brasil.', url='https://www.poder360.com.br/poder-economia/att-tem-lucro-ajustado-de-us-116-bilhoes-no-3o-trimestre-de-2024/', score=0.9980387028481147)]"
      ]
     },
     "execution_count": 111,
     "metadata": {},
     "output_type": "execute_result"
    }
   ],
   "source": [
    "response"
   ]
  },
  {
   "cell_type": "code",
   "execution_count": null,
   "metadata": {},
   "outputs": [],
   "source": []
  }
 ],
 "metadata": {
  "kernelspec": {
   "display_name": "nlp_dl",
   "language": "python",
   "name": "python3"
  },
  "language_info": {
   "codemirror_mode": {
    "name": "ipython",
    "version": 3
   },
   "file_extension": ".py",
   "mimetype": "text/x-python",
   "name": "python",
   "nbconvert_exporter": "python",
   "pygments_lexer": "ipython3",
   "version": "3.10.15"
  }
 },
 "nbformat": 4,
 "nbformat_minor": 2
}
